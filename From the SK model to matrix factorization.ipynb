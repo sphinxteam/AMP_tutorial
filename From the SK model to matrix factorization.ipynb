{
 "cells": [
  {
   "cell_type": "code",
   "execution_count": 1,
   "metadata": {},
   "outputs": [],
   "source": [
    "%matplotlib inline\n",
    "import numpy as np\n",
    "import matplotlib.pyplot as plt\n",
    "plt.rcParams[\"figure.figsize\"] = (8, 8)\n",
    "plt.rcParams[\"font.size\"] = 14\n",
    "\n",
    "np.random.seed(14753)"
   ]
  },
  {
   "cell_type": "markdown",
   "metadata": {},
   "source": [
    "# From the SK model to matrix factorization\n",
    "\n",
    "In this notebook we will study the (planted) SK model using AMP and its state evolution. We will also show how we can easily generalize this approach to more complicated models."
   ]
  },
  {
   "cell_type": "markdown",
   "metadata": {},
   "source": [
    "## The planted SK model"
   ]
  },
  {
   "cell_type": "markdown",
   "metadata": {},
   "source": [
    "We start from the following generative model, which defines $P ({\\bf x}, J)$\n",
    "\n",
    "$$\\left\\{\n",
    "\\begin{aligned}\n",
    "    &x_i \\sim \\frac12 \\, \\delta(x_i - 1) + \\frac12 \\, \\delta (x_i + 1), \\quad i \\in [N], \\\\\n",
    "    &J_{ij} \\sim \\mathcal{N} (x_i x_j, \\sigma^2), \\quad (i, j) \\in [N]^2.\n",
    "\\end{aligned}\n",
    "\\right.\n",
    "$$\n",
    "\n",
    "Our objective is to estimate ${\\bf x}$ given the knowledge of $J$. For that we use Bayes theorem to write the *posterior distribution* $P ({\\bf x} | J)$\n",
    "\n",
    "$$P({\\bf x} | J) = \\frac{P({\\bf x}, J)}{P (J)} \\propto \\prod_{ij} P(J_{ij} | x_i, x_j) \\, \\prod_i P_0 (x_i) \\propto \\exp \\bigg\\{\\beta \\sum_{ij} J_{ij} x_i x_j\\bigg\\}$$\n",
    "\n",
    "for $\\beta = 1 / \\sigma^2$. Note that this distribution is quite similar to the one appearing in the Sherrington-Kirkpatrick model; the distribution $P (J)$ is however quite peculiar, as the $J$'s are generated from a particular, *planted* configuration.\n",
    "\n",
    "We shall use as estimate the MMSE (minimum mean squared error) -- in other words, the mean of $P({\\bf x} | J)$. We cannot compute it analytically though, and performing the exact numerical computation would take a very long time! We must thus resort to approximations."
   ]
  },
  {
   "cell_type": "markdown",
   "metadata": {},
   "source": [
    "Let us first write a function to sample an instance $\\{{\\bf x}, J\\}$ for us: it first samples ${\\bf x} \\sim U(\\{-1, +1\\}^N)$, then generates $J$ by setting $J_{ij} = x_i x_j + \\mathcal{N} (0, \\sigma^2_{ij})$."
   ]
  },
  {
   "cell_type": "code",
   "execution_count": 2,
   "metadata": {},
   "outputs": [],
   "source": [
    "def sample_instance(size_x, var_noise):\n",
    "    \"\"\"Sample {x, J} from P(x, J)\"\"\"\n",
    "    \n",
    "    # Sample x from U({+1, -1}^N)\n",
    "    x0 = np.random.choice([+1, -1], size_x)\n",
    "    \n",
    "    # Generate J = xx^T / sqrt(N) + noise\n",
    "    W = np.outer(x0, x0) / np.sqrt(size_x)\n",
    "    noise = np.sqrt(var_noise) * np.random.randn(size_x, size_x)\n",
    "    noise = np.tril(noise) + np.tril(noise).T  # make noise symmetric\n",
    "    \n",
    "    J = W + noise\n",
    "    np.fill_diagonal(J, 0)  # set diagonal elements to zero\n",
    "\n",
    "    return x0, J"
   ]
  },
  {
   "cell_type": "markdown",
   "metadata": {},
   "source": [
    "We test this function below and see if its output makes sense."
   ]
  },
  {
   "cell_type": "code",
   "execution_count": 3,
   "metadata": {},
   "outputs": [
    {
     "name": "stdout",
     "output_type": "stream",
     "text": [
      "[ 1  1 -1 ...  1 -1  1]\n",
      "[[ 0.         -0.01402384  0.37446827 ... -0.57908625  0.24606049\n",
      "  -0.09781867]\n",
      " [-0.01402384  0.         -0.25387192 ...  0.21896855 -0.48342456\n",
      "   0.47098177]\n",
      " [ 0.37446827 -0.25387192  0.         ...  0.0005851  -0.05790875\n",
      "   0.28537195]\n",
      " ...\n",
      " [-0.57908625  0.21896855  0.0005851  ...  0.          0.40979618\n",
      "   0.48746639]\n",
      " [ 0.24606049 -0.48342456 -0.05790875 ...  0.40979618  0.\n",
      "  -0.13028925]\n",
      " [-0.09781867  0.47098177  0.28537195 ...  0.48746639 -0.13028925\n",
      "   0.        ]]\n"
     ]
    }
   ],
   "source": [
    "x0, J = sample_instance(size_x=5000, var_noise=0.1)\n",
    "print(x0)\n",
    "print(J)"
   ]
  },
  {
   "cell_type": "markdown",
   "metadata": {},
   "source": [
    "## Approximate message-passing for low-rank matrix factorization"
   ]
  },
  {
   "cell_type": "markdown",
   "metadata": {},
   "source": [
    "We now implement AMP. For the class of models $J = XX^T + \\xi$, with $X \\in \\mathbb{R}^{N \\times R}$, the (simplified) AMP iteration is given by\n",
    "\n",
    "$$\n",
    "\\begin{aligned}\n",
    "A^t &= \\frac{1}{\\sigma^2} (\\mathbb{E}^t X)^T \\mathbb{E}^t X \\\\\n",
    "B^t &= \\frac{1}{\\sqrt{N} \\sigma^2} J \\, \\mathbb{E}^t X - \\frac{1}{\\sigma^2} \\mathbb{E}^{t - 1} X \\langle \\operatorname{Var}^t X \\rangle\n",
    "\\end{aligned}\n",
    "$$\n",
    "\n",
    "with mean and variances computed with respect to $Q^t \\equiv Q ({\\bf x}; A^{t - 1}, {\\bf B}^{t - 1}) \\propto P_0({\\bf x}) \\, e^{-\\frac{1}{2} {\\bf x}^T A^{t-1} {\\bf x} + {\\bf B}^{t - 1} \\cdot {\\bf x}}$. In our case, $x$ is Rademacher so the mean is given by $\\tanh(B)$, and the variance by $1 - \\tanh^2(B)$. Putting these together yields for the mean ${\\bf m}$\n",
    "\n",
    "$$\n",
    "{\\bf m}^{t + 1} = \\tanh\\left( \\frac{\\beta}{\\sqrt{N}} J {\\bf m}^t - \\beta \\, {\\bf m}^{t - 1} \\, \\langle 1 - {\\bf m}^t \\rangle \\right)\n",
    "$$\n",
    "\n",
    "which can be recognized as the TAP equations.\n",
    "\n",
    "Once again, our objective is to compute the MMSE estimate $\\hat{\\bf x}_{\\rm MMSE} ({\\bf J})$, which is given by the mean of $P({\\bf x} | J)$. We will approximate this quantity by the mean $\\mathbb{E} X$ provided by AMP upon convergence; in fact, this is a very good approximation, which becomes exact in the large $N$ limit."
   ]
  },
  {
   "cell_type": "code",
   "execution_count": 4,
   "metadata": {},
   "outputs": [],
   "source": [
    "def iterate_amp(J, var_noise, x0=None, max_iter=100, tol=1e-7, verbose=1):\n",
    "    \"\"\"Iterate AMP to solve J = xx^T, w/ x Rademacher\"\"\"\n",
    "    \n",
    "    # Some pre-processing\n",
    "    size_x = J.shape[0]\n",
    "    \n",
    "    # Initialize variables\n",
    "    B = np.zeros(size_x)\n",
    "    m = np.random.rand(size_x)\n",
    "    m_old = np.zeros(size_x)\n",
    "    \n",
    "    for t in range(max_iter):\n",
    "        # Perform iteration\n",
    "        B = (J.dot(m) / np.sqrt(size_x) - m_old * np.mean(1 - m ** 2)) / var_noise\n",
    "        m_old = np.copy(m)\n",
    "        m = np.tanh(B)\n",
    "         \n",
    "        # Compute metrics\n",
    "        diff = np.mean(np.abs(m - m_old))\n",
    "        mse = np.mean((m - x0) ** 2) if x0 is not None else 0\n",
    "        \n",
    "        # Print iteration status on screen\n",
    "        if verbose:\n",
    "            print(\"t = %d, diff = %g; mse = %g\" % (t, diff, mse))\n",
    "        \n",
    "        # Check for convergence\n",
    "        if diff < tol:\n",
    "            break\n",
    "            \n",
    "    return m"
   ]
  },
  {
   "cell_type": "markdown",
   "metadata": {},
   "source": [
    "Let's check if our implementation works. We will use the data generated before. Note that we need to pass the correct value of the noise -- if we didn't know, there are techniques we could use to learn it."
   ]
  },
  {
   "cell_type": "code",
   "execution_count": 5,
   "metadata": {},
   "outputs": [
    {
     "name": "stdout",
     "output_type": "stream",
     "text": [
      "t = 0, diff = 0.812344; mse = 1.58325\n",
      "t = 1, diff = 0.891672; mse = 1.61023\n",
      "t = 2, diff = 0.929721; mse = 1.50674\n",
      "t = 3, diff = 0.926089; mse = 1.15114\n",
      "t = 4, diff = 0.761494; mse = 0.441945\n",
      "t = 5, diff = 0.302738; mse = 0.0258978\n",
      "t = 6, diff = 0.0208309; mse = 0.00371911\n",
      "t = 7, diff = 0.00155821; mse = 0.0026405\n",
      "t = 8, diff = 0.000212728; mse = 0.00247946\n",
      "t = 9, diff = 4.69347e-05; mse = 0.00246313\n",
      "t = 10, diff = 9.84831e-06; mse = 0.00245713\n",
      "t = 11, diff = 2.08452e-06; mse = 0.00245585\n",
      "t = 12, diff = 4.70992e-07; mse = 0.00245562\n",
      "t = 13, diff = 9.83697e-08; mse = 0.00245556\n"
     ]
    },
    {
     "data": {
      "text/plain": [
       "array([ 0.99999987,  1.        , -1.        , ...,  1.        ,\n",
       "       -1.        ,  0.99998851])"
      ]
     },
     "execution_count": 5,
     "metadata": {},
     "output_type": "execute_result"
    }
   ],
   "source": [
    "iterate_amp(J, var_noise=0.1, x0=x0)"
   ]
  },
  {
   "cell_type": "markdown",
   "metadata": {},
   "source": [
    "Good, it seems to work! Now let's briefly perform an experiment to see what's the error we get for different values of noise $\\sigma^2$."
   ]
  },
  {
   "cell_type": "code",
   "execution_count": 6,
   "metadata": {},
   "outputs": [],
   "source": [
    "def run_experiment(noise_vars, size_x):\n",
    "    \"\"\"Compute overlap obtained by AMP using different noise variances\"\"\"\n",
    "    \n",
    "    overlaps = np.zeros(len(noise_vars))\n",
    "    \n",
    "    # For each variance in noise_vars, sample new instance and run AMP\n",
    "    for i, var in enumerate(noise_vars):\n",
    "        x0, J = sample_instance(size_x=size_x, var_noise=var)\n",
    "        m = iterate_amp(J, var_noise=var, verbose=0)\n",
    "        \n",
    "        overlaps[i] = np.abs(np.mean(m * x0))\n",
    "        print(\"noise_var = %g, overlap = %g\" % (var, overlaps[i]))\n",
    "        \n",
    "    return overlaps"
   ]
  },
  {
   "cell_type": "code",
   "execution_count": 7,
   "metadata": {},
   "outputs": [
    {
     "name": "stdout",
     "output_type": "stream",
     "text": [
      "noise_var = 0.1, overlap = 0.996956\n",
      "noise_var = 0.2, overlap = 0.954448\n",
      "noise_var = 0.3, overlap = 0.872542\n",
      "noise_var = 0.4, overlap = 0.717975\n",
      "noise_var = 0.5, overlap = 0.594831\n",
      "noise_var = 0.6, overlap = 0.431195\n",
      "noise_var = 0.7, overlap = 0.320946\n",
      "noise_var = 0.8, overlap = 0.236906\n",
      "noise_var = 0.9, overlap = 0.00865235\n",
      "noise_var = 1, overlap = 0.000350327\n",
      "noise_var = 1.1, overlap = 1.89126e-05\n",
      "noise_var = 1.2, overlap = 0.000173594\n",
      "noise_var = 1.3, overlap = 0.00170619\n",
      "noise_var = 1.4, overlap = 4.91144e-08\n",
      "noise_var = 1.5, overlap = 6.51712e-10\n",
      "noise_var = 1.6, overlap = 7.1167e-08\n",
      "noise_var = 1.7, overlap = 5.4175e-09\n",
      "noise_var = 1.8, overlap = 3.80736e-09\n",
      "noise_var = 1.9, overlap = 9.81678e-10\n"
     ]
    }
   ],
   "source": [
    "noise_vars = np.arange(0.1, 2.0, 0.1)\n",
    "overlaps = run_experiment(noise_vars, size_x=2000)"
   ]
  },
  {
   "cell_type": "code",
   "execution_count": 8,
   "metadata": {},
   "outputs": [
    {
     "data": {
      "text/plain": [
       "Text(0.5,0,'noise')"
      ]
     },
     "execution_count": 8,
     "metadata": {},
     "output_type": "execute_result"
    },
    {
     "data": {
      "image/png": "[encoded data removed]",
      "text/plain": [
       "<Figure size 576x576 with 1 Axes>"
      ]
     },
     "metadata": {},
     "output_type": "display_data"
    }
   ],
   "source": [
    "plt.plot(noise_vars, overlaps, \"o\")\n",
    "plt.ylabel(\"overlap\")\n",
    "plt.xlabel(\"noise\")"
   ]
  },
  {
   "cell_type": "markdown",
   "metadata": {},
   "source": [
    "Apparently at $\\sigma^2 \\approx 1$ the algorithm ceases to provide us any meaningful output, that is, we are no better using it instead of flipping a coin."
   ]
  },
  {
   "cell_type": "markdown",
   "metadata": {},
   "source": [
    "## Predicting the performance of AMP w/ state evolution"
   ]
  },
  {
   "cell_type": "markdown",
   "metadata": {},
   "source": [
    "We can determine analytically what is the performance of AMP for each value of $\\sigma^2$, by mean of the so-called state evolution equations. For the model above, it consists in determining the fixed points of\n",
    "\n",
    "$$\n",
    "m^{t + 1} = \\int Dz \\, \\tanh(\\sqrt{m^t / \\sigma^2} z + m^t / \\sigma^2)\n",
    "$$\n",
    "\n",
    "where $m$ gives the overlap between the planted configuration and our estimate. More generally, for arbitrary prior $P_0 ({\\bf x})$ and $R > 1$\n",
    "\n",
    "$$\n",
    "M^{t + 1} = \\int D{\\bf x} \\, P_0 ({\\bf x}) \\, \\int D{\\bf z} \\, \\hat{X} (M^t / \\sigma^2, M^t / \\sigma^2 \\, {\\bf x} + \\sqrt{M^t / \\sigma^2} {\\bf z}) \\cdot {\\bf x}\n",
    "$$\n",
    "\n",
    "where $\\hat{X} (A, B) = \\mathbb{E}_{Q(x; A, B)} X$."
   ]
  },
  {
   "cell_type": "code",
   "execution_count": 9,
   "metadata": {},
   "outputs": [],
   "source": [
    "from scipy.integrate import quad\n",
    "\n",
    "def iterate_se(var_noise, max_iter=250, tol=1e-11, verbose=1):\n",
    "    \"\"\"Iterate state evolution associated to AMP implementation above\"\"\"\n",
    "    \n",
    "    # Define function to be integrated at each step\n",
    "    f = lambda x: lambda z: np.exp(-z ** 2 / 2) / np.sqrt(2 * np.pi) * \\\n",
    "            np.tanh(np.sqrt(x) * z + x)\n",
    "    \n",
    "    m = 1e-3\n",
    "    for t in range(max_iter):\n",
    "        m_old = m\n",
    "        m = quad(f(m / var_noise), -10, 10)[0]\n",
    "        \n",
    "        diff = np.abs(m - m_old)\n",
    "        if verbose:\n",
    "            print(\"t = %d, diff = %g; m = %g\" % (t, diff, m))\n",
    "            \n",
    "        if(diff < tol):\n",
    "            break\n",
    "    \n",
    "    return m"
   ]
  },
  {
   "cell_type": "markdown",
   "metadata": {},
   "source": [
    "Let's see if this works."
   ]
  },
  {
   "cell_type": "code",
   "execution_count": 10,
   "metadata": {},
   "outputs": [
    {
     "name": "stdout",
     "output_type": "stream",
     "text": [
      "t = 0, diff = 0.00890162; m = 0.00990162\n",
      "t = 1, diff = 0.0806142; m = 0.0905158\n",
      "t = 2, diff = 0.428603; m = 0.519118\n",
      "t = 3, diff = 0.446399; m = 0.965517\n",
      "t = 4, diff = 0.0315761; m = 0.997093\n",
      "t = 5, diff = 0.000457241; m = 0.99755\n",
      "t = 6, diff = 6.05676e-06; m = 0.997556\n",
      "t = 7, diff = 8.0128e-08; m = 0.997557\n",
      "t = 8, diff = 1.06004e-09; m = 0.997557\n",
      "t = 9, diff = 1.40234e-11; m = 0.997557\n",
      "t = 10, diff = 1.85518e-13; m = 0.997557\n"
     ]
    },
    {
     "data": {
      "text/plain": [
       "0.9975565759008704"
      ]
     },
     "execution_count": 10,
     "metadata": {},
     "output_type": "execute_result"
    }
   ],
   "source": [
    "iterate_se(0.1)"
   ]
  },
  {
   "cell_type": "markdown",
   "metadata": {},
   "source": [
    "Good! We can now compare the overlap predicted by the state evolution to that we obtained using AMP."
   ]
  },
  {
   "cell_type": "code",
   "execution_count": 11,
   "metadata": {},
   "outputs": [],
   "source": [
    "# Compute predicted overlaps for different values of noise variance\n",
    "pred_vars = np.linspace(0.01, 2, 100)\n",
    "pred_overlaps = [iterate_se(var, verbose=0) for var in pred_vars]"
   ]
  },
  {
   "cell_type": "code",
   "execution_count": 12,
   "metadata": {},
   "outputs": [
    {
     "data": {
      "text/plain": [
       "Text(0.5,0,'noise')"
      ]
     },
     "execution_count": 12,
     "metadata": {},
     "output_type": "execute_result"
    },
    {
     "data": {
      "image/png": "[encoded data removed]",
      "text/plain": [
       "<Figure size 576x576 with 1 Axes>"
      ]
     },
     "metadata": {},
     "output_type": "display_data"
    }
   ],
   "source": [
    "# Compare final overlap obtained by AMP and state evolution, for each value of noise variance\n",
    "plt.plot(noise_vars, overlaps, \"o\")\n",
    "plt.plot(pred_vars, pred_overlaps, \"-\")\n",
    "plt.ylabel(\"overlap\")\n",
    "plt.xlabel(\"noise\")"
   ]
  },
  {
   "cell_type": "markdown",
   "metadata": {},
   "source": [
    "They seem to be in good agreement, apart from finite size problems -- try running it again for large $N$ to confirm that is the case!\n",
    "\n",
    "**Exercise**: show that for $\\sigma^2 > 1$ the trivial solution $m = 0$ is a linearly stable fixed point."
   ]
  },
  {
   "cell_type": "markdown",
   "metadata": {},
   "source": [
    "## From $xx^T$ to $XX^T$ and $UV^T$: clustering with GMMs"
   ]
  },
  {
   "cell_type": "markdown",
   "metadata": {},
   "source": [
    "One can easily generalize the algorithm and analysis above to similar, more complicated models (see [Lesieur et al. 2017](http://iopscience.iop.org/article/10.1088/1742-5468/aa7284/meta)). We now consider the following latent variable model\n",
    "\n",
    "$$\\left\\{\n",
    "\\begin{aligned}\n",
    "    {\\bf U}_i &\\sim \\mathcal{N} (0, I_R) \\\\\n",
    "    {\\bf V}_j & \\sim \\frac{1}{R} \\sum_{k = 1}^R \\delta({\\bf V}_j - \\mathbb{e}_k) \\\\\n",
    "    Y_{ij} &\\sim \\mathcal{N} ({\\bf U}_i \\cdot {\\bf V}_j, \\sigma^2)\n",
    "\\end{aligned}\n",
    "\\right.\n",
    "$$"
   ]
  },
  {
   "cell_type": "markdown",
   "metadata": {},
   "source": [
    "which provides a good description of *Gaussian mixture models* or GMMs (see figure below for an example of how this would work in the $R = 2$ case).\n",
    "\n",
    "![Test](img/cluster.png)"
   ]
  },
  {
   "cell_type": "markdown",
   "metadata": {},
   "source": [
    "We begin by sampling from the generative model."
   ]
  },
  {
   "cell_type": "code",
   "execution_count": 13,
   "metadata": {},
   "outputs": [],
   "source": [
    "def sample_instance(size_u, size_v, rank, var_noise):\n",
    "    \"\"\"Sample {U, V, Y} from P(U, V, Y)\"\"\"\n",
    "    \n",
    "    # Sample U_i from N(0, I_r)\n",
    "    U = np.random.randn(size_u, rank)\n",
    "    \n",
    "    # Sample V_j from uniform distribution over standard basis vectors\n",
    "    labels = np.random.randint(rank, size=size_v)\n",
    "    V = np.zeros((size_v, rank))\n",
    "    V[range(len(V)), labels] = 1\n",
    "    \n",
    "    # Generate Y = UV^T / sqrt(N) + noise\n",
    "    W = U.dot(V.T) / np.sqrt(size_u)\n",
    "    noise = np.sqrt(var_noise) * np.random.randn(size_u, size_v)\n",
    "    Y = W + noise\n",
    "    \n",
    "    return U, V, Y"
   ]
  },
  {
   "cell_type": "markdown",
   "metadata": {},
   "source": [
    "Let's see what our data looks like. Note that we'll do something very low-dimensional: $U$ is 2x3, and $V$ is 100x3. In the context of our model that means we have 2 dimensions and 100 samples."
   ]
  },
  {
   "cell_type": "code",
   "execution_count": 14,
   "metadata": {},
   "outputs": [
    {
     "data": {
      "text/plain": [
       "[<matplotlib.lines.Line2D at 0x7effd88c5f98>]"
      ]
     },
     "execution_count": 14,
     "metadata": {},
     "output_type": "execute_result"
    },
    {
     "data": {
      "image/png": "[encoded data removed]",
      "text/plain": [
       "<Figure size 576x576 with 1 Axes>"
      ]
     },
     "metadata": {},
     "output_type": "display_data"
    }
   ],
   "source": [
    "U, V, Y = sample_instance(2, 100, 3, 0.01)\n",
    "plt.plot(U[0, :] / np.sqrt(len(U)), U[1, :] / np.sqrt(len(U)), \"kx\", ms=10, mew=3)\n",
    "plt.plot(Y[0, :], Y[1, :], \"ko\", mfc=\"w\", ms=10, alpha=0.5)"
   ]
  },
  {
   "cell_type": "markdown",
   "metadata": {},
   "source": [
    "Our objective here is to perform clustering, i.e. to identify the different groups to which each sample belongs to. We'll do that via AMP.\n",
    "\n",
    "Let's then implement AMP for the $UV^T$ model."
   ]
  },
  {
   "cell_type": "code",
   "execution_count": 15,
   "metadata": {},
   "outputs": [],
   "source": [
    "def iterate_amp(Y, rank, var_noise, x0=None, max_iter=100, tol=1e-7, verbose=1):\n",
    "    \"\"\"Iterate AMP to solve Y = UV^T + noise\"\"\"\n",
    "    \n",
    "    # Some pre-processing\n",
    "    size_u, size_v = Y.shape\n",
    "    \n",
    "    S = Y / (np.sqrt(size_u) * var_noise)\n",
    "    I = 1 / (size_u * var_noise)\n",
    "    \n",
    "    # Initialize variables for U\n",
    "    A_U = np.ones((rank, rank))\n",
    "    B_U = np.zeros((size_u, rank))\n",
    "    a_U = np.random.randn(size_u, rank)\n",
    "    c_U = np.ones((rank, rank))\n",
    "    \n",
    "    # Initialize variables for V\n",
    "    A_V = np.ones((rank, rank))\n",
    "    B_V = np.zeros((size_v, rank))\n",
    "    a_V = np.zeros((size_v, rank))\n",
    "    c_V = np.ones((rank, rank))\n",
    "    \n",
    "    for t in range(max_iter):\n",
    "        # Perform iteration in V\n",
    "        B_V = S.T.dot(a_U) - I * a_V.dot(c_U)\n",
    "        A_V = I * a_U.T.dot(a_U)\n",
    "        a_Vold = np.copy(a_V)\n",
    "        a_V, c_V = prior_V(A_V, B_V)\n",
    "        \n",
    "        # Perform iteration i U\n",
    "        B_U = S.dot(a_V) - I * a_U.dot(c_V)\n",
    "        A_U = I * a_V.T.dot(a_V)\n",
    "        a_Uold = np.copy(a_U)\n",
    "        a_U, c_U = prior_U(A_U, B_U)\n",
    "      \n",
    "        # Compute metrics\n",
    "        diff = np.mean(np.abs(a_U - a_Uold))\n",
    "        \n",
    "        # Print iteration status on screen\n",
    "        if verbose:\n",
    "            print(\"t = %d, diff = %g\" % (t, diff))\n",
    "        \n",
    "        # Check for convergence\n",
    "        if diff < tol:\n",
    "            break\n",
    "            \n",
    "    return a_U, a_V"
   ]
  },
  {
   "cell_type": "markdown",
   "metadata": {},
   "source": [
    "We next need to compute the prior functions for $U$ and $V$."
   ]
  },
  {
   "cell_type": "code",
   "execution_count": 16,
   "metadata": {},
   "outputs": [],
   "source": [
    "def prior_U(A, B):\n",
    "    \"\"\"Prior functions f and f' for Gaussian prior\"\"\"\n",
    "    n, r = B.shape\n",
    "    a = np.linalg.solve(A + np.eye(r), B.T).T\n",
    "    c = n * np.linalg.inv(A + np.eye(r))\n",
    "    return a, c\n",
    "    \n",
    "def prior_V(A, B):\n",
    "    \"\"\"Prior functions f and f' for uniform prior over standard basis vectors\"\"\"\n",
    "    n, r = B.shape\n",
    "    \n",
    "    arg = -.5 * np.diag(A).T + B\n",
    "    max_arg = np.max(arg, 1)\n",
    "    exps = np.exp((arg.T - max_arg).T)\n",
    "    z = np.sum(exps, 1)\n",
    "    \n",
    "    a = (exps.T / z).T\n",
    "    c = np.diag(np.sum(a, 0)) - a.T.dot(a)\n",
    "    return a, c"
   ]
  },
  {
   "cell_type": "markdown",
   "metadata": {},
   "source": [
    "We can now run AMP. Our estimate for $U$ will give the position of the centroids, and our estimate for $V$ will give the labels of each data point."
   ]
  },
  {
   "cell_type": "code",
   "execution_count": 17,
   "metadata": {},
   "outputs": [
    {
     "name": "stdout",
     "output_type": "stream",
     "text": [
      "t = 0, diff = 0.565934\n",
      "t = 1, diff = 0.155269\n",
      "t = 2, diff = 0.134367\n",
      "t = 3, diff = 0.0358092\n",
      "t = 4, diff = 1.0921e-07\n",
      "t = 5, diff = 1.17603e-13\n"
     ]
    }
   ],
   "source": [
    "a_U, a_V = iterate_amp(Y, rank=3, var_noise=0.01);"
   ]
  },
  {
   "cell_type": "code",
   "execution_count": 18,
   "metadata": {},
   "outputs": [
    {
     "data": {
      "image/png": "[encoded data removed]",
      "text/plain": [
       "<Figure size 576x576 with 1 Axes>"
      ]
     },
     "metadata": {},
     "output_type": "display_data"
    }
   ],
   "source": [
    "# Plot centroids\n",
    "plt.plot(a_U[0, :] / np.sqrt(len(a_U)), a_U[1, :] / np.sqrt(len(a_U)), \"kx\", ms=10, mew=3)\n",
    "\n",
    "# Plot data points with different colors\n",
    "labels = np.array([np.argmax(a_V[i, :]) for i in range(len(a_V))])\n",
    "for i in range(3):\n",
    "    plt.plot(Y[0, labels == i], Y[1, labels == i], \"o\", ms=10, alpha=0.5)"
   ]
  },
  {
   "cell_type": "markdown",
   "metadata": {},
   "source": [
    "## References\n",
    "\n",
    "1. Zdeborová, Lenka, and Florent Krzakala. \"Statistical physics of inference: Thresholds and algorithms.\" Advances in Physics 65.5 (2016): 453-552.\n",
    "\n",
    "2. Lesieur, Thibault, Florent Krzakala, and Lenka Zdeborová. \"Constrained low-rank matrix estimation: Phase transitions, approximate message passing and applications.\" Journal of Statistical Mechanics: Theory and Experiment 2017.7 (2017): 073403.\n",
    "\n",
    "3. Rangan, Sundeep, and Alyson K. Fletcher. \"Iterative estimation of constrained rank-one matrices in noise.\" Information Theory Proceedings (ISIT), 2012 IEEE International Symposium on. IEEE, 2012.\n",
    "\n",
    "4. Matsushita, Ryosuke, and Toshiyuki Tanaka. \"Low-rank matrix reconstruction and clustering via approximate message passing.\" Advances in Neural Information Processing Systems. 2013.\n",
    "\n",
    "5. Thouless, David J., Philip W. Anderson, and Robert G. Palmer. \"Solution of 'solvable model of a spin glass'.\" Philosophical Magazine 35.3 (1977): 593-601."
   ]
  }
 ],
 "metadata": {
  "kernelspec": {
   "display_name": "Python 3",
   "language": "python",
   "name": "python3"
  },
  "language_info": {
   "codemirror_mode": {
    "name": "ipython",
    "version": 3
   },
   "file_extension": ".py",
   "mimetype": "text/x-python",
   "name": "python",
   "nbconvert_exporter": "python",
   "pygments_lexer": "ipython3",
   "version": "3.6.4"
  }
 },
 "nbformat": 4,
 "nbformat_minor": 2
}
