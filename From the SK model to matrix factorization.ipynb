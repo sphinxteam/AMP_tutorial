{
 "cells": [
  {
   "cell_type": "code",
   "execution_count": 1,
   "metadata": {},
   "outputs": [],
   "source": [
    "%matplotlib inline\n",
    "import numpy as np\n",
    "import matplotlib.pyplot as plt\n",
    "plt.rcParams[\"figure.figsize\"] = (8, 8)\n",
    "plt.rcParams[\"font.size\"] = 14\n",
    "\n",
    "np.random.seed(42)"
   ]
  },
  {
   "cell_type": "markdown",
   "metadata": {},
   "source": [
    "# From the SK model to matrix factorization\n",
    "\n",
    "In this notebook we will study the (planted) SK model using AMP and its state evolution, and show how we can easily generalize it to more complicated models."
   ]
  },
  {
   "cell_type": "markdown",
   "metadata": {},
   "source": [
    "## The planted SK model"
   ]
  },
  {
   "cell_type": "markdown",
   "metadata": {},
   "source": [
    "We start from the following generative model, which defines $P ({\\bf x}, J)$\n",
    "\n",
    "$$\\left\\{\n",
    "\\begin{aligned}\n",
    "    &x_i \\sim \\frac12 \\, \\delta(x_i - 1) + \\frac12 \\, \\delta (x_i + 1), \\quad i \\in [N], \\\\\n",
    "    &J_{ij} \\sim \\mathcal{N} (x_i x_j, \\sigma^2), \\quad (i, j) \\in [N]^2.\n",
    "\\end{aligned}\n",
    "\\right.\n",
    "$$\n",
    "\n",
    "Our objective is to estimate ${\\bf x}$ given the knowledge of $J$. For that we use Bayes theorem to write the *posterior distribution* $P ({\\bf x} | J)$\n",
    "\n",
    "$$P({\\bf x} | J) = \\frac{P({\\bf x}, J)}{P (J)} \\propto \\prod_{ij} P(J_{ij} | x_i, x_j) \\, \\prod_i P_0 (x_i) \\propto \\exp \\bigg\\{\\beta \\sum_{ij} J_{ij} x_i x_j\\bigg\\}$$\n",
    "\n",
    "for $\\beta = 1 / \\sigma^2$. Note that this distribution is quite similar to the one appearing in the Sherrington-Kirkpatrick model; the distribution $P (J)$ is however quite peculiar, as the $J$'s are generated from a particular, *planted* configuration."
   ]
  },
  {
   "cell_type": "markdown",
   "metadata": {},
   "source": [
    "Let us first write a function to sample an instance $\\{{\\bf x}, J\\}$ for us: it first samples ${\\bf x} \\sim U(\\{-1, +1\\}^N)$, then generates $J$ by setting $J_{ij} = x_i x_j + \\mathcal{N} (0, \\sigma^2_{ij})$."
   ]
  },
  {
   "cell_type": "code",
   "execution_count": 2,
   "metadata": {},
   "outputs": [],
   "source": [
    "def sample_instance(size_x, var_noise):\n",
    "    \"\"\"Sample {x, J} from P(x, J)\"\"\"\n",
    "    \n",
    "    # Sample x from U({+1, -1}^N)\n",
    "    x0 = np.random.choice([+1, -1], size_x)\n",
    "    \n",
    "    # Generate J = xx^T / sqrt(N) + noise\n",
    "    W = np.outer(x0, x0) / np.sqrt(size_x)\n",
    "    noise = np.sqrt(var_noise) * np.random.randn(size_x, size_x)\n",
    "    noise = np.tril(noise) + np.tril(noise).T  # make noise symmetric\n",
    "    \n",
    "    J = W + noise\n",
    "    np.fill_diagonal(J, 0)  # set diagonal elements to zero\n",
    "\n",
    "    return x0, J"
   ]
  },
  {
   "cell_type": "markdown",
   "metadata": {},
   "source": [
    "We test this function below and see if its output makes sense."
   ]
  },
  {
   "cell_type": "code",
   "execution_count": 3,
   "metadata": {},
   "outputs": [
    {
     "name": "stdout",
     "output_type": "stream",
     "text": [
      "[ 1 -1  1 ...  1 -1 -1]\n",
      "[[ 0.          0.14361858 -0.36617599 ... -0.04699868 -0.20651937\n",
      "  -0.08071995]\n",
      " [ 0.14361858  0.         -0.32721196 ...  0.36569576 -0.05921181\n",
      "  -0.05231012]\n",
      " [-0.36617599 -0.32721196  0.         ... -0.15944852  0.34254108\n",
      "  -0.50576127]\n",
      " ...\n",
      " [-0.04699868  0.36569576 -0.15944852 ...  0.         -0.14424313\n",
      "   0.26066376]\n",
      " [-0.20651937 -0.05921181  0.34254108 ... -0.14424313  0.\n",
      "   0.11437594]\n",
      " [-0.08071995 -0.05231012 -0.50576127 ...  0.26066376  0.11437594\n",
      "   0.        ]]\n"
     ]
    }
   ],
   "source": [
    "x0, J = sample_instance(size_x=5000, var_noise=0.1)\n",
    "print(x0)\n",
    "print(J)"
   ]
  },
  {
   "cell_type": "markdown",
   "metadata": {},
   "source": [
    "## Approximate message-passing for low-rank matrix factorization"
   ]
  },
  {
   "cell_type": "markdown",
   "metadata": {},
   "source": [
    "We now implement AMP. For the class of models $J = XX^T + \\xi$, with $X \\in \\mathbb{R}^{N \\times R}$, the (simplified) AMP iteration is given by\n",
    "\n",
    "$$\n",
    "\\begin{aligned}\n",
    "A^t &= \\frac{1}{\\sigma^2} (\\mathbb{E}^t X)^T \\mathbb{E}^t X \\\\\n",
    "B^t &= \\frac{1}{\\sqrt{N} \\sigma^2} J \\, \\mathbb{E}^t X - \\frac{1}{\\sigma^2} \\mathbb{E}^{t - 1} X \\langle \\operatorname{Var}^t X \\rangle\n",
    "\\end{aligned}\n",
    "$$\n",
    "\n",
    "with mean and variances computed with respect to $Q^t \\equiv Q ({\\bf x}; A^{t - 1}, {\\bf B}^{t - 1}) \\propto P_0({\\bf x}) \\, e^{-\\frac{1}{2} {\\bf x}^T A^{t-1} {\\bf x} + {\\bf B}^{t - 1} \\cdot {\\bf x}}$. In our case, $x$ is Rademacher so the mean is given by $\\tanh(B)$, and the variance by $1 - \\tanh^2(B)$. Putting these together yields for the mean ${\\bf m}$\n",
    "\n",
    "$$\n",
    "{\\bf m}^{t + 1} = \\tanh\\left( \\frac{\\beta}{\\sqrt{N}} J {\\bf m}^t - \\beta \\, {\\bf m}^{t - 1} \\, \\langle 1 - {\\bf m}^t \\rangle \\right)\n",
    "$$\n",
    "\n",
    "which can be recognized as the TAP equations."
   ]
  },
  {
   "cell_type": "code",
   "execution_count": 4,
   "metadata": {},
   "outputs": [],
   "source": [
    "def iterate_amp(J, var_noise, x0=None, max_iter=100, tol=1e-7, verbose=1):\n",
    "    \"\"\"Iterate AMP to solve J = xx^T, w/ x Rademacher\"\"\"\n",
    "    \n",
    "    # Some pre-processing\n",
    "    size_x = J.shape[0]\n",
    "    \n",
    "    # Initialize variables\n",
    "    B = np.zeros(size_x)\n",
    "    m = np.random.rand(size_x)\n",
    "    m_old = np.zeros(size_x)\n",
    "    \n",
    "    for t in range(max_iter):\n",
    "        # Perform iteration\n",
    "        B = (J.dot(m) / np.sqrt(size_x) - m_old * np.mean(1 - m ** 2)) / var_noise\n",
    "        m_old = np.copy(m)\n",
    "        m = np.tanh(B)\n",
    "         \n",
    "        # Compute metrics\n",
    "        diff = np.mean(np.abs(m - m_old))\n",
    "        mse = np.mean((m - x0) ** 2) if x0 is not None else 0\n",
    "        \n",
    "        # Print iteration status on screen\n",
    "        if verbose:\n",
    "            print(\"t = %d, diff = %g; mse = %g\" % (t, diff, mse))\n",
    "        \n",
    "        # Check for convergence\n",
    "        if diff < tol:\n",
    "            break\n",
    "            \n",
    "    return m"
   ]
  },
  {
   "cell_type": "code",
   "execution_count": null,
   "metadata": {},
   "outputs": [],
   "source": [
    "# Uncomment the line below to see solution\n",
    "%load ex1_solution.py"
   ]
  },
  {
   "cell_type": "markdown",
   "metadata": {},
   "source": [
    "Let's check if our implementation works. We will use the data generated before. Note that we need to pass the correct value of the noise -- if we didn't know, there are techniques we could use to learn it."
   ]
  },
  {
   "cell_type": "code",
   "execution_count": 5,
   "metadata": {},
   "outputs": [
    {
     "name": "stdout",
     "output_type": "stream",
     "text": [
      "t = 0, diff = 0.81942; mse = 1.56142\n",
      "t = 1, diff = 0.925601; mse = 1.59009\n",
      "t = 2, diff = 0.935356; mse = 1.45695\n",
      "t = 3, diff = 0.914817; mse = 1.04665\n",
      "t = 4, diff = 0.679632; mse = 0.333362\n",
      "t = 5, diff = 0.231946; mse = 0.0147519\n",
      "t = 6, diff = 0.0119755; mse = 0.003623\n",
      "t = 7, diff = 0.000720042; mse = 0.00309775\n",
      "t = 8, diff = 6.40207e-05; mse = 0.00302498\n",
      "t = 9, diff = 6.20993e-06; mse = 0.00302409\n",
      "t = 10, diff = 9.60252e-07; mse = 0.00302515\n",
      "t = 11, diff = 1.71819e-07; mse = 0.00302527\n",
      "t = 12, diff = 2.0784e-08; mse = 0.00302527\n"
     ]
    },
    {
     "data": {
      "text/plain": [
       "array([ 1.        , -1.        ,  1.        , ...,  0.99999568,\n",
       "       -1.        , -0.99664771])"
      ]
     },
     "execution_count": 5,
     "metadata": {},
     "output_type": "execute_result"
    }
   ],
   "source": [
    "iterate_amp(J, var_noise=0.1, x0=x0)"
   ]
  },
  {
   "cell_type": "markdown",
   "metadata": {},
   "source": [
    "Good, it seems to work! Now let's briefly perform an experiment to see what's the error we get for different values of noise $\\sigma^2$."
   ]
  },
  {
   "cell_type": "code",
   "execution_count": 6,
   "metadata": {},
   "outputs": [],
   "source": [
    "def run_experiment(noise_vars, size_x):\n",
    "    \"\"\"Compute overlap obtained by AMP using different noise variances\"\"\"\n",
    "    \n",
    "    overlaps = np.zeros(len(noise_vars))\n",
    "    \n",
    "    # For each variance in noise_vars, sample new instance and run AMP\n",
    "    for i, var in enumerate(noise_vars):\n",
    "        x0, J = sample_instance(size_x=size_x, var_noise=var)\n",
    "        m = iterate_amp(J, var_noise=var, verbose=0)\n",
    "        \n",
    "        overlaps[i] = np.abs(np.mean(m * x0))\n",
    "        print(\"noise_var = %g, overlap = %g\" % (var, overlaps[i]))\n",
    "        \n",
    "    return overlaps"
   ]
  },
  {
   "cell_type": "code",
   "execution_count": 7,
   "metadata": {},
   "outputs": [
    {
     "name": "stdout",
     "output_type": "stream",
     "text": [
      "noise_var = 0.1, overlap = 0.998451\n",
      "noise_var = 0.2, overlap = 0.965473\n",
      "noise_var = 0.3, overlap = 0.877464\n",
      "noise_var = 0.4, overlap = 0.729485\n",
      "noise_var = 0.5, overlap = 0.584086\n",
      "noise_var = 0.6, overlap = 0.492491\n",
      "noise_var = 0.7, overlap = 0.351571\n",
      "noise_var = 0.8, overlap = 0.030399\n",
      "noise_var = 0.9, overlap = 0.171151\n",
      "noise_var = 1, overlap = 0.0184064\n",
      "noise_var = 1.1, overlap = 0.00152625\n",
      "noise_var = 1.2, overlap = 7.72709e-07\n",
      "noise_var = 1.3, overlap = 7.02551e-09\n",
      "noise_var = 1.4, overlap = 3.06504e-10\n",
      "noise_var = 1.5, overlap = 1.23234e-07\n",
      "noise_var = 1.6, overlap = 2.15128e-09\n",
      "noise_var = 1.7, overlap = 2.53956e-09\n",
      "noise_var = 1.8, overlap = 3.93201e-09\n",
      "noise_var = 1.9, overlap = 1.66328e-09\n"
     ]
    }
   ],
   "source": [
    "noise_vars = np.arange(0.1, 2.0, 0.1)\n",
    "overlaps = run_experiment(noise_vars, size_x=2000)"
   ]
  },
  {
   "cell_type": "code",
   "execution_count": 8,
   "metadata": {},
   "outputs": [
    {
     "data": {
      "text/plain": [
       "Text(0.5,0,'noise')"
      ]
     },
     "execution_count": 8,
     "metadata": {},
     "output_type": "execute_result"
    },
    {
     "data": {
      "image/png": "[encoded data removed]",
      "text/plain": [
       "<Figure size 576x576 with 1 Axes>"
      ]
     },
     "metadata": {},
     "output_type": "display_data"
    }
   ],
   "source": [
    "plt.plot(noise_vars, overlaps, \"o\")\n",
    "plt.ylabel(\"overlap\")\n",
    "plt.xlabel(\"noise\")"
   ]
  },
  {
   "cell_type": "markdown",
   "metadata": {},
   "source": [
    "Apparently at $\\sigma^2 \\approx 1$ the algorithm ceases to provide us any meaningful output, that is, we are no better using it instead of flipping a coin."
   ]
  },
  {
   "cell_type": "markdown",
   "metadata": {},
   "source": [
    "## Predicting the performance of AMP w/ state evolution"
   ]
  },
  {
   "cell_type": "markdown",
   "metadata": {},
   "source": [
    "We can determine analytically what is the performance of AMP for each value of $\\sigma^2$, by mean of the so-called state evolution equations. For the model above, it consists in determining the fixed points of\n",
    "\n",
    "$$\n",
    "m^{t + 1} = \\int Dz \\, \\tanh(\\sqrt{m^t / \\sigma^2} z + m^t / \\sigma^2)\n",
    "$$\n",
    "\n",
    "where $m$ gives the overlap between the planted configuration and our estimate. More generally, for arbitrary prior $P_0 ({\\bf x})$ and $R > 1$\n",
    "\n",
    "$$\n",
    "M^{t + 1} = \\int D{\\bf x} \\, P_0 ({\\bf x}) \\, \\int D{\\bf z} \\, \\hat{X} (M^t / \\sigma^2, M^t / \\sigma^2 \\, {\\bf x} + \\sqrt{M^t / \\sigma^2} {\\bf z}) \\cdot {\\bf x}\n",
    "$$\n",
    "\n",
    "where $\\hat{X} (A, B) = \\mathbb{E}_{Q(x; A, B)} X$."
   ]
  },
  {
   "cell_type": "code",
   "execution_count": 9,
   "metadata": {},
   "outputs": [],
   "source": [
    "from scipy.integrate import quad\n",
    "\n",
    "def iterate_se(var_noise, max_iter=250, tol=1e-11, verbose=1):\n",
    "    \"\"\"Iterate state evolution associated to AMP implementation above\"\"\"\n",
    "    \n",
    "    # Define function to be integrated at each step\n",
    "    f = lambda x: lambda z: np.exp(-z ** 2 / 2) / np.sqrt(2 * np.pi) * \\\n",
    "            np.tanh(np.sqrt(x) * z + x)\n",
    "    \n",
    "    m = 1e-3\n",
    "    for t in range(max_iter):\n",
    "        m_old = m\n",
    "        m = quad(f(m / var_noise), -10, 10)[0]\n",
    "        \n",
    "        diff = np.abs(m - m_old)\n",
    "        if verbose:\n",
    "            print(\"t = %d, diff = %g; m = %g\" % (t, diff, m))\n",
    "            \n",
    "        if(diff < tol):\n",
    "            break\n",
    "    \n",
    "    return m"
   ]
  },
  {
   "cell_type": "markdown",
   "metadata": {},
   "source": [
    "Let's see if this works."
   ]
  },
  {
   "cell_type": "code",
   "execution_count": 10,
   "metadata": {},
   "outputs": [
    {
     "name": "stdout",
     "output_type": "stream",
     "text": [
      "t = 0, diff = 0.00890162; m = 0.00990162\n",
      "t = 1, diff = 0.0806142; m = 0.0905158\n",
      "t = 2, diff = 0.428603; m = 0.519118\n",
      "t = 3, diff = 0.446399; m = 0.965517\n",
      "t = 4, diff = 0.0315761; m = 0.997093\n",
      "t = 5, diff = 0.000457241; m = 0.99755\n",
      "t = 6, diff = 6.05676e-06; m = 0.997556\n",
      "t = 7, diff = 8.0128e-08; m = 0.997557\n",
      "t = 8, diff = 1.06004e-09; m = 0.997557\n",
      "t = 9, diff = 1.40234e-11; m = 0.997557\n",
      "t = 10, diff = 1.85518e-13; m = 0.997557\n"
     ]
    },
    {
     "data": {
      "text/plain": [
       "0.9975565759008704"
      ]
     },
     "execution_count": 10,
     "metadata": {},
     "output_type": "execute_result"
    }
   ],
   "source": [
    "iterate_se(0.1)"
   ]
  },
  {
   "cell_type": "markdown",
   "metadata": {},
   "source": [
    "Good! We can now compare the overlap predicted by the state evolution to that we obtained using AMP."
   ]
  },
  {
   "cell_type": "code",
   "execution_count": 11,
   "metadata": {},
   "outputs": [],
   "source": [
    "# Compute predicted overlaps for different values of noise variance\n",
    "pred_vars = np.linspace(0.01, 2, 100)\n",
    "pred_overlaps = [iterate_se(var, verbose=0) for var in pred_vars]"
   ]
  },
  {
   "cell_type": "code",
   "execution_count": 12,
   "metadata": {},
   "outputs": [
    {
     "data": {
      "text/plain": [
       "Text(0.5,0,'noise')"
      ]
     },
     "execution_count": 12,
     "metadata": {},
     "output_type": "execute_result"
    },
    {
     "data": {
      "image/png": "[encoded data removed]",
      "text/plain": [
       "<Figure size 576x576 with 1 Axes>"
      ]
     },
     "metadata": {},
     "output_type": "display_data"
    }
   ],
   "source": [
    "# Compare final overlap obtained by AMP and state evolution, for each value of noise variance\n",
    "plt.plot(noise_vars, overlaps, \"o\")\n",
    "plt.plot(pred_vars, pred_overlaps, \"-\")\n",
    "plt.ylabel(\"overlap\")\n",
    "plt.xlabel(\"noise\")"
   ]
  },
  {
   "cell_type": "markdown",
   "metadata": {},
   "source": [
    "They seem to be in good agreement, apart from finite size problems -- try running it again for large $N$ to confirm that is the case!\n",
    "\n",
    "**Exercise**: show that for $\\sigma^2 > 1$ the trivial solution $m = 0$ is a linearly stable fixed point."
   ]
  },
  {
   "cell_type": "markdown",
   "metadata": {},
   "source": [
    "## From $xx^T$ to $XX^T$ and $UV^T$: clustering with GMMs"
   ]
  },
  {
   "cell_type": "markdown",
   "metadata": {},
   "source": [
    "One can easily generalize the algorithm and analysis above to similar, more complicated models (see [Lesieur et al. 2017](http://iopscience.iop.org/article/10.1088/1742-5468/aa7284/meta)). We now consider the following latent variable model\n",
    "\n",
    "$$\\left\\{\n",
    "\\begin{aligned}\n",
    "    {\\bf U}_i &\\sim \\mathcal{N} (0, I_R) \\\\\n",
    "    {\\bf V}_j & \\sim \\frac{1}{R} \\sum_{k = 1}^R \\delta({\\bf V}_j - \\mathbb{e}_k) \\\\\n",
    "    Y_{ij} &\\sim \\mathcal{N} ({\\bf U}_i \\cdot {\\bf V}_j, \\sigma^2)\n",
    "\\end{aligned}\n",
    "\\right.\n",
    "$$"
   ]
  },
  {
   "cell_type": "markdown",
   "metadata": {},
   "source": [
    "which provides a good description of *Gaussian mixture models* or GMMs (see figure below for an example of how this would work in the $R = 2$ case).\n",
    "\n",
    "![Test](img/cluster.png)"
   ]
  },
  {
   "cell_type": "markdown",
   "metadata": {},
   "source": [
    "## References\n",
    "\n",
    "1. Zdeborová, Lenka, and Florent Krzakala. \"Statistical physics of inference: Thresholds and algorithms.\" Advances in Physics 65.5 (2016): 453-552.\n",
    "\n",
    "2. Lesieur, Thibault, Florent Krzakala, and Lenka Zdeborová. \"Constrained low-rank matrix estimation: Phase transitions, approximate message passing and applications.\" Journal of Statistical Mechanics: Theory and Experiment 2017.7 (2017): 073403.\n",
    "\n",
    "3. Rangan, Sundeep, and Alyson K. Fletcher. \"Iterative estimation of constrained rank-one matrices in noise.\" Information Theory Proceedings (ISIT), 2012 IEEE International Symposium on. IEEE, 2012.\n",
    "\n",
    "4. Matsushita, Ryosuke, and Toshiyuki Tanaka. \"Low-rank matrix reconstruction and clustering via approximate message passing.\" Advances in Neural Information Processing Systems. 2013.\n",
    "\n",
    "5. Thouless, David J., Philip W. Anderson, and Robert G. Palmer. \"Solution of 'solvable model of a spin glass'.\" Philosophical Magazine 35.3 (1977): 593-601."
   ]
  },
  {
   "cell_type": "code",
   "execution_count": null,
   "metadata": {},
   "outputs": [],
   "source": []
  }
 ],
 "metadata": {
  "kernelspec": {
   "display_name": "Python 3",
   "language": "python",
   "name": "python3"
  },
  "language_info": {
   "codemirror_mode": {
    "name": "ipython",
    "version": 3
   },
   "file_extension": ".py",
   "mimetype": "text/x-python",
   "name": "python",
   "nbconvert_exporter": "python",
   "pygments_lexer": "ipython3",
   "version": "3.6.4"
  }
 },
 "nbformat": 4,
 "nbformat_minor": 2
}
