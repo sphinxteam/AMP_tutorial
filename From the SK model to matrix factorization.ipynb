{
 "cells": [
  {
   "cell_type": "code",
   "execution_count": 1,
   "metadata": {},
   "outputs": [],
   "source": [
    "%matplotlib inline\n",
    "import numpy as np\n",
    "import matplotlib.pyplot as plt\n",
    "plt.rcParams[\"figure.figsize\"] = (8, 8)\n",
    "plt.rcParams[\"font.size\"] = 14\n",
    "\n",
    "np.random.seed(42)"
   ]
  },
  {
   "cell_type": "markdown",
   "metadata": {},
   "source": [
    "# From the SK model to matrix factorization"
   ]
  },
  {
   "cell_type": "markdown",
   "metadata": {},
   "source": [
    "## The planted SK model"
   ]
  },
  {
   "cell_type": "markdown",
   "metadata": {},
   "source": [
    "$$\\left\\{\n",
    "\\begin{aligned}\n",
    "    &x_i \\sim \\frac12 \\, \\delta(x_i - 1) + \\frac12 \\, \\delta (x_i + 1), \\quad i \\in [N], \\\\\n",
    "    &J_{ij} \\sim \\mathcal{N} (x_i x_j, \\sigma^2), \\quad (i, j) \\in [N]^2.\n",
    "\\end{aligned}\n",
    "\\right.\n",
    "$$"
   ]
  },
  {
   "cell_type": "markdown",
   "metadata": {},
   "source": [
    "$$P({\\bf x} | J) = \\frac{P({\\bf x}, J)}{P (J)} \\propto \\prod_{ij} P(J_{ij} | x_i, x_j) \\, \\prod_i P_0 (x_i) \\propto \\exp \\bigg\\{\\beta \\sum_{ij} J_{ij} x_i x_j\\bigg\\}$$"
   ]
  },
  {
   "cell_type": "markdown",
   "metadata": {},
   "source": [
    "Let us first write a function to sample an instance $\\{{\\bf x}, J\\}$ for us: it first samples ${\\bf x} \\sim U(\\{-1, +1\\}^N)$, then generates $J$ by setting $J_{ij} = x_i x_j + \\mathcal{N} (0, \\sigma^2_{ij})$."
   ]
  },
  {
   "cell_type": "code",
   "execution_count": 2,
   "metadata": {},
   "outputs": [],
   "source": [
    "def sample_instance(size_x, var_noise):\n",
    "    # Sample x from U({+1, -1}^N)\n",
    "    x0 = np.random.choice([+1, -1], size_x)\n",
    "    \n",
    "    # Generate J = xx^T / sqrt(N) + noise\n",
    "    W = np.outer(x0, x0) / np.sqrt(size_x)\n",
    "    noise = np.sqrt(var_noise) * np.random.randn(size_x, size_x)\n",
    "    J = W + noise\n",
    "\n",
    "    return x0, J"
   ]
  },
  {
   "cell_type": "code",
   "execution_count": 3,
   "metadata": {},
   "outputs": [
    {
     "name": "stdout",
     "output_type": "stream",
     "text": [
      "[ 1 -1  1 ...  1 -1 -1]\n",
      "[[ 0.17893552  0.18989295  0.18983969 ...  0.04486549  0.33898349\n",
      "   0.05925263]\n",
      " [ 0.14361858 -0.09405477  0.0475466  ...  0.32294519  0.01978119\n",
      "   0.02602182]\n",
      " [-0.36617599 -0.32721196 -0.24677654 ...  0.27745417 -0.51757941\n",
      "   0.12879451]\n",
      " ...\n",
      " [-0.04699868  0.36569576 -0.15944852 ... -0.05410941 -0.12207424\n",
      "  -0.16803076]\n",
      " [-0.20651937 -0.05921181  0.34254108 ... -0.14424313  0.62471291\n",
      "   0.30912637]\n",
      " [-0.08071995 -0.05231012 -0.50576127 ...  0.26066376  0.11437594\n",
      "   0.31817798]]\n"
     ]
    }
   ],
   "source": [
    "x0, J = sample_instance(size_x=5000, var_noise=0.1)\n",
    "print(x0)\n",
    "print(J)"
   ]
  },
  {
   "cell_type": "code",
   "execution_count": 4,
   "metadata": {},
   "outputs": [],
   "source": [
    "def iterate_amp(J, var_noise, x0=None, max_iter=100, tol=1e-7, verbose=1):\n",
    "    # Some pre-processing\n",
    "    size_x = J.shape[0]\n",
    "    \n",
    "    # Initialize variables\n",
    "    A = np.ones(size_x)\n",
    "    B = np.zeros(size_x)\n",
    "    m = np.random.rand(size_x)\n",
    "    v = np.zeros(size_x)\n",
    "    \n",
    "    m_old = np.zeros(size_x)\n",
    "    \n",
    "    for t in range(max_iter):\n",
    "        # Perform iteration\n",
    "        A = np.mean(m ** 2) / var_noise\n",
    "        B = J.dot(m) - v * m_old / var_noise\n",
    "        \n",
    "        # Store old mean and compute new mean/variance\n",
    "        m_old = np.copy(m)\n",
    "        m = np.tanh(B)\n",
    "        v = np.mean(1 - m ** 2)\n",
    "        \n",
    "        # Compute metrics\n",
    "        diff = np.mean(np.abs(m - m_old))\n",
    "        mse = np.mean((m - x0) ** 2) if x0 is not None else 0\n",
    "        \n",
    "        # Print iteration status on screen\n",
    "        if verbose:\n",
    "            print(\"t = %d, diff = %g; mse = %g\" % (t, diff, mse))\n",
    "        \n",
    "        # Check for convergence\n",
    "        if diff < tol:\n",
    "            break\n",
    "            \n",
    "    return m"
   ]
  },
  {
   "cell_type": "code",
   "execution_count": 5,
   "metadata": {},
   "outputs": [
    {
     "name": "stdout",
     "output_type": "stream",
     "text": [
      "t = 0, diff = 0.966242; mse = 1.88342\n",
      "t = 1, diff = 1.00779; mse = 1.8493\n",
      "t = 2, diff = 0.980764; mse = 1.67809\n",
      "t = 3, diff = 0.955943; mse = 1.273\n",
      "t = 4, diff = 0.722482; mse = 0.50797\n",
      "t = 5, diff = 0.27427; mse = 0.0442738\n",
      "t = 6, diff = 0.0243151; mse = 0.00395697\n",
      "t = 7, diff = 0.0013591; mse = 0.00321107\n",
      "t = 8, diff = 0.000122091; mse = 0.00326937\n",
      "t = 9, diff = 2.88324e-05; mse = 0.00325085\n",
      "t = 10, diff = 4.66491e-06; mse = 0.0032527\n",
      "t = 11, diff = 7.82692e-07; mse = 0.0032526\n",
      "t = 12, diff = 1.09624e-07; mse = 0.00325259\n",
      "t = 13, diff = 1.04491e-08; mse = 0.0032526\n"
     ]
    },
    {
     "data": {
      "text/plain": [
       "array([ 1., -1.,  1., ...,  1., -1., -1.])"
      ]
     },
     "execution_count": 5,
     "metadata": {},
     "output_type": "execute_result"
    }
   ],
   "source": [
    "iterate_amp(J, var_noise=0.1, x0=x0)"
   ]
  },
  {
   "cell_type": "code",
   "execution_count": 6,
   "metadata": {},
   "outputs": [],
   "source": [
    "def run_experiment(noise_vars, size_x):\n",
    "    overlaps = np.zeros(len(noise_vars))\n",
    "    \n",
    "    # For each variance in noise_vars, sample new instance and run AMP\n",
    "    for i, var in enumerate(noise_vars):\n",
    "        x0, J = sample_instance(size_x=size_x, var_noise=var)\n",
    "        m = iterate_amp(J, var_noise=var, verbose=0)\n",
    "        \n",
    "        overlaps[i] = np.abs(np.mean(m * x0))\n",
    "        print(\"noise_var = %g, overlap = %g\" % (var, overlaps[i]))\n",
    "        \n",
    "    return overlaps"
   ]
  },
  {
   "cell_type": "code",
   "execution_count": 7,
   "metadata": {},
   "outputs": [
    {
     "name": "stdout",
     "output_type": "stream",
     "text": [
      "noise_var = 0.1, overlap = 0.997872\n",
      "noise_var = 0.2, overlap = 0.962793\n",
      "noise_var = 0.3, overlap = 0.916833\n",
      "noise_var = 0.4, overlap = 0.772237\n",
      "noise_var = 0.5, overlap = 0.662021\n",
      "noise_var = 0.6, overlap = 0.402147\n",
      "noise_var = 0.7, overlap = 0.0403888\n",
      "noise_var = 0.8, overlap = 0.0540425\n",
      "noise_var = 0.9, overlap = 0.0431614\n",
      "noise_var = 1, overlap = 0.0193154\n",
      "noise_var = 1.1, overlap = 0.088591\n",
      "noise_var = 1.2, overlap = 0.00206401\n",
      "noise_var = 1.3, overlap = 0.0104246\n",
      "noise_var = 1.4, overlap = 0.0367025\n",
      "noise_var = 1.5, overlap = 0.0179438\n",
      "noise_var = 1.6, overlap = 0.0136617\n",
      "noise_var = 1.7, overlap = 0.0591565\n",
      "noise_var = 1.8, overlap = 0.00165833\n",
      "noise_var = 1.9, overlap = 0.00156943\n"
     ]
    }
   ],
   "source": [
    "noise_vars = np.arange(0.1, 2.0, 0.1)\n",
    "overlaps = run_experiment(noise_vars, size_x=2000)"
   ]
  },
  {
   "cell_type": "code",
   "execution_count": 8,
   "metadata": {},
   "outputs": [
    {
     "data": {
      "text/plain": [
       "Text(0.5,0,'noise')"
      ]
     },
     "execution_count": 8,
     "metadata": {},
     "output_type": "execute_result"
    },
    {
     "data": {
      "image/png": "[encoded data removed]",
      "text/plain": [
       "<Figure size 576x576 with 1 Axes>"
      ]
     },
     "metadata": {},
     "output_type": "display_data"
    }
   ],
   "source": [
    "plt.plot(noise_vars, overlaps, \"o\")\n",
    "plt.ylabel(\"overlap\")\n",
    "plt.xlabel(\"noise\")"
   ]
  },
  {
   "cell_type": "markdown",
   "metadata": {},
   "source": [
    "## Predicting the performance of AMP w/ state evolution"
   ]
  },
  {
   "cell_type": "code",
   "execution_count": 9,
   "metadata": {},
   "outputs": [],
   "source": [
    "from scipy.integrate import quad\n",
    "\n",
    "def iterate_se(var_noise, max_iter=250, tol=1e-11, verbose=1):\n",
    "    # Define function to be integrated at each step\n",
    "    f = lambda x: lambda z: np.exp(-.5 * z ** 2) / np.sqrt(2 * np.pi) * \\\n",
    "            np.tanh(np.sqrt(x) * z + x)\n",
    "    \n",
    "    m = 1e-3\n",
    "    for t in range(max_iter):\n",
    "        m_old = m\n",
    "        m = quad(f(m / var_noise), -10, 10)[0]\n",
    "        \n",
    "        diff = np.abs(m - m_old)\n",
    "        if verbose:\n",
    "            print(\"t = %d, diff = %g; m = %g\" % (t, diff, m))\n",
    "            \n",
    "        if(diff < tol):\n",
    "            break\n",
    "    \n",
    "    return m"
   ]
  },
  {
   "cell_type": "code",
   "execution_count": 10,
   "metadata": {},
   "outputs": [
    {
     "name": "stdout",
     "output_type": "stream",
     "text": [
      "t = 0, diff = 0.00890162; m = 0.00990162\n",
      "t = 1, diff = 0.0806142; m = 0.0905158\n",
      "t = 2, diff = 0.428603; m = 0.519118\n",
      "t = 3, diff = 0.446399; m = 0.965517\n",
      "t = 4, diff = 0.0315761; m = 0.997093\n",
      "t = 5, diff = 0.000457241; m = 0.99755\n",
      "t = 6, diff = 6.05676e-06; m = 0.997556\n",
      "t = 7, diff = 8.0128e-08; m = 0.997557\n",
      "t = 8, diff = 1.06004e-09; m = 0.997557\n",
      "t = 9, diff = 1.40234e-11; m = 0.997557\n",
      "t = 10, diff = 1.85518e-13; m = 0.997557\n"
     ]
    },
    {
     "data": {
      "text/plain": [
       "0.9975565759008704"
      ]
     },
     "execution_count": 10,
     "metadata": {},
     "output_type": "execute_result"
    }
   ],
   "source": [
    "iterate_se(0.1)"
   ]
  },
  {
   "cell_type": "code",
   "execution_count": 11,
   "metadata": {},
   "outputs": [],
   "source": [
    "pred_vars = np.linspace(0.01, 2, 100)\n",
    "pred_overlaps = [iterate_se(var, verbose=0) for var in pred_vars]"
   ]
  },
  {
   "cell_type": "code",
   "execution_count": 12,
   "metadata": {},
   "outputs": [
    {
     "data": {
      "text/plain": [
       "Text(0.5,0,'noise')"
      ]
     },
     "execution_count": 12,
     "metadata": {},
     "output_type": "execute_result"
    },
    {
     "data": {
      "image/png": "[encoded data removed]",
      "text/plain": [
       "<Figure size 576x576 with 1 Axes>"
      ]
     },
     "metadata": {},
     "output_type": "display_data"
    }
   ],
   "source": [
    "plt.plot(noise_vars, overlaps, \"o\")\n",
    "plt.plot(pred_vars, pred_overlaps, \"-\")\n",
    "plt.ylabel(\"overlap\")\n",
    "plt.xlabel(\"noise\")"
   ]
  },
  {
   "cell_type": "markdown",
   "metadata": {},
   "source": [
    "## From $xx^T$ to $XX^T$ and $UV^T$: clustering with GMMs"
   ]
  },
  {
   "cell_type": "code",
   "execution_count": null,
   "metadata": {},
   "outputs": [],
   "source": []
  }
 ],
 "metadata": {
  "kernelspec": {
   "display_name": "Python 3",
   "language": "python",
   "name": "python3"
  },
  "language_info": {
   "codemirror_mode": {
    "name": "ipython",
    "version": 3
   },
   "file_extension": ".py",
   "mimetype": "text/x-python",
   "name": "python",
   "nbconvert_exporter": "python",
   "pygments_lexer": "ipython3",
   "version": "3.6.4"
  }
 },
 "nbformat": 4,
 "nbformat_minor": 2
}
