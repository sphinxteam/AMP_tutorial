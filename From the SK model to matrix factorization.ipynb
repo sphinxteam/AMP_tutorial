{
 "cells": [
  {
   "cell_type": "code",
   "execution_count": 1,
   "metadata": {},
   "outputs": [],
   "source": [
    "%matplotlib inline\n",
    "import numpy as np\n",
    "import matplotlib.pyplot as plt\n",
    "\n",
    "np.random.seed(42)"
   ]
  },
  {
   "cell_type": "markdown",
   "metadata": {},
   "source": [
    "# From the SK model to matrix factorization"
   ]
  },
  {
   "cell_type": "markdown",
   "metadata": {},
   "source": [
    "## The planted SK model"
   ]
  },
  {
   "cell_type": "markdown",
   "metadata": {},
   "source": [
    "$$\\left\\{\n",
    "\\begin{aligned}\n",
    "    &x_i \\sim \\frac12 \\, \\delta(x_i - 1) + \\frac12 \\, \\delta (x_i + 1), \\quad i \\in [N], \\\\\n",
    "    &J_{ij} \\sim \\mathcal{N} (x_i x_j, \\sigma^2), \\quad (i, j) \\in [N]^2.\n",
    "\\end{aligned}\n",
    "\\right.\n",
    "$$"
   ]
  },
  {
   "cell_type": "markdown",
   "metadata": {},
   "source": [
    "$$P({\\bf x} | J) = \\frac{P({\\bf x}, J)}{P (J)} \\propto \\prod_{ij} P(J_{ij} | x_i, x_j) \\, \\prod_i P_0 (x_i) \\propto \\exp \\bigg\\{\\beta \\sum_{ij} J_{ij} x_i x_j\\bigg\\}$$"
   ]
  },
  {
   "cell_type": "markdown",
   "metadata": {},
   "source": [
    "Let us first write a function to sample an instance $\\{{\\bf x}, J\\}$ for us: it first samples ${\\bf x} \\sim U(\\{-1, +1\\}^N)$, then generates $J$ by setting $J_{ij} = x_i x_j + \\mathcal{N} (0, \\sigma^2_{ij})$."
   ]
  },
  {
   "cell_type": "code",
   "execution_count": 2,
   "metadata": {},
   "outputs": [],
   "source": [
    "def sample_instance(size_x, var_noise):\n",
    "    # Sample x from U({+1, -1}^N)\n",
    "    x0 = np.random.choice([+1, -1], size_x)\n",
    "    \n",
    "    # Generate J = xx^T / sqrt(N) + noise\n",
    "    W = np.outer(x0, x0) / np.sqrt(size_x)\n",
    "    noise = np.sqrt(var_noise) * np.random.randn(size_x, size_x)\n",
    "    #noise = np.tril(noise) + np.tril(noise).T  # make noise symmetric\n",
    "    \n",
    "    J = W + noise\n",
    "\n",
    "    return x0, J"
   ]
  },
  {
   "cell_type": "code",
   "execution_count": 3,
   "metadata": {},
   "outputs": [
    {
     "name": "stdout",
     "output_type": "stream",
     "text": [
      "[ 1 -1  1 ...  1 -1 -1]\n",
      "[[ 0.17893552  0.18989295  0.18983969 ...  0.04486549  0.33898349\n",
      "   0.05925263]\n",
      " [ 0.14361858 -0.09405477  0.0475466  ...  0.32294519  0.01978119\n",
      "   0.02602182]\n",
      " [-0.36617599 -0.32721196 -0.24677654 ...  0.27745417 -0.51757941\n",
      "   0.12879451]\n",
      " ...\n",
      " [-0.04699868  0.36569576 -0.15944852 ... -0.05410941 -0.12207424\n",
      "  -0.16803076]\n",
      " [-0.20651937 -0.05921181  0.34254108 ... -0.14424313  0.62471291\n",
      "   0.30912637]\n",
      " [-0.08071995 -0.05231012 -0.50576127 ...  0.26066376  0.11437594\n",
      "   0.31817798]]\n"
     ]
    }
   ],
   "source": [
    "x0, J = sample_instance(size_x=5000, var_noise=0.1)\n",
    "print(x0)\n",
    "print(J)"
   ]
  },
  {
   "cell_type": "code",
   "execution_count": 4,
   "metadata": {},
   "outputs": [],
   "source": [
    "def iterate_amp(J, x0=None, max_iter=100, tol=1e-7, verbose=1):\n",
    "    size_x = J.shape[0]\n",
    "    \n",
    "    # Initialize variables\n",
    "    A = np.ones(size_x)\n",
    "    B = np.zeros(size_x)\n",
    "    m = np.random.rand(size_x)\n",
    "    v = np.zeros(size_x)\n",
    "    \n",
    "    m_old = np.zeros(size_x)\n",
    "    \n",
    "    for t in range(max_iter):\n",
    "        # Perform iteration\n",
    "        A = (J ** 2).dot(v)\n",
    "        B = J.dot(m) + A * m_old\n",
    "        \n",
    "        # Store old mean and compute new mean/variance\n",
    "        m_old = np.copy(m)\n",
    "        m = np.tanh(B)\n",
    "        v = 1 - m ** 2\n",
    "        \n",
    "        # Compute metrics\n",
    "        diff = np.mean(np.abs(m - m_old))\n",
    "        mse = np.mean((m - x0) ** 2) if x0 is not None else 0\n",
    "        \n",
    "        # Print iteration status on screen\n",
    "        if verbose:\n",
    "            print(\"t = %d, diff = %g; mse = %g\" % (t, diff, mse))\n",
    "        \n",
    "        # Check for convergence\n",
    "        if diff < tol:\n",
    "            break\n",
    "            \n",
    "    return m"
   ]
  },
  {
   "cell_type": "code",
   "execution_count": 5,
   "metadata": {},
   "outputs": [
    {
     "name": "stdout",
     "output_type": "stream",
     "text": [
      "t = 0, diff = 0.966242; mse = 1.88342\n",
      "t = 1, diff = 0.990502; mse = 1.89233\n",
      "t = 2, diff = 0.993578; mse = 1.83913\n",
      "t = 3, diff = 1.00098; mse = 1.70397\n",
      "t = 4, diff = 0.971627; mse = 1.50968\n",
      "t = 5, diff = 0.899383; mse = 1.11612\n",
      "t = 6, diff = 0.663827; mse = 0.529047\n",
      "t = 7, diff = 0.278611; mse = 0.0633591\n",
      "t = 8, diff = 0.0327915; mse = 0.00328804\n",
      "t = 9, diff = 0.00212444; mse = 0.00359918\n",
      "t = 10, diff = 0.00038914; mse = 0.00328199\n",
      "t = 11, diff = 0.000111608; mse = 0.00325134\n",
      "t = 12, diff = 1.78588e-05; mse = 0.00324869\n",
      "t = 13, diff = 4.99614e-06; mse = 0.00324926\n",
      "t = 14, diff = 6.79258e-07; mse = 0.00324893\n",
      "t = 15, diff = 1.39977e-07; mse = 0.00324901\n",
      "t = 16, diff = 3.05062e-08; mse = 0.00324899\n"
     ]
    },
    {
     "data": {
      "text/plain": [
       "array([ 1., -1.,  1., ...,  1., -1., -1.])"
      ]
     },
     "execution_count": 5,
     "metadata": {},
     "output_type": "execute_result"
    }
   ],
   "source": [
    "iterate_amp(J, x0=x0)"
   ]
  },
  {
   "cell_type": "code",
   "execution_count": 6,
   "metadata": {},
   "outputs": [],
   "source": [
    "def run_experiment(noise_vars, size_x):\n",
    "    overlaps = np.zeros(len(noise_vars))\n",
    "    \n",
    "    # For each variance in noise_vars, sample new instance and run AMP\n",
    "    for i, var in enumerate(noise_vars):\n",
    "        x0, J = sample_instance(size_x=size_x, var_noise=var)\n",
    "        m = iterate_amp(J, verbose=0)\n",
    "        \n",
    "        overlaps[i] = np.abs(np.mean(m * x0))\n",
    "        print(\"noise_var = %g, overlap = %g\" % (var, overlaps[i]))\n",
    "        \n",
    "    return overlaps"
   ]
  },
  {
   "cell_type": "code",
   "execution_count": 7,
   "metadata": {},
   "outputs": [
    {
     "name": "stdout",
     "output_type": "stream",
     "text": [
      "noise_var = 0.1, overlap = 0.997859\n",
      "noise_var = 0.2, overlap = 0.963546\n",
      "noise_var = 0.3, overlap = 0.92107\n",
      "noise_var = 0.4, overlap = 0.801414\n",
      "noise_var = 0.5, overlap = 0.704258\n",
      "noise_var = 0.6, overlap = 0.549773\n",
      "noise_var = 0.7, overlap = 0.529269\n",
      "noise_var = 0.8, overlap = 0.108654\n",
      "noise_var = 0.9, overlap = 0.118253\n",
      "noise_var = 1, overlap = 0.138942\n",
      "noise_var = 1.1, overlap = 0.00485511\n",
      "noise_var = 1.2, overlap = 0.0438033\n",
      "noise_var = 1.3, overlap = 0.0664782\n",
      "noise_var = 1.4, overlap = 0.0789406\n",
      "noise_var = 1.5, overlap = 0.0680595\n",
      "noise_var = 1.6, overlap = 0.0263701\n",
      "noise_var = 1.7, overlap = 0.0708172\n",
      "noise_var = 1.8, overlap = 0.00685673\n",
      "noise_var = 1.9, overlap = 0.00339531\n"
     ]
    }
   ],
   "source": [
    "noise_vars = np.arange(0.1, 2.0, 0.1)\n",
    "overlaps = run_experiment(noise_vars, size_x=2000)"
   ]
  },
  {
   "cell_type": "code",
   "execution_count": 8,
   "metadata": {},
   "outputs": [
    {
     "data": {
      "text/plain": [
       "Text(0.5,0,'noise')"
      ]
     },
     "execution_count": 8,
     "metadata": {},
     "output_type": "execute_result"
    },
    {
     "data": {
      "image/png": "[encoded data removed]",
      "text/plain": [
       "<Figure size 432x288 with 1 Axes>"
      ]
     },
     "metadata": {},
     "output_type": "display_data"
    }
   ],
   "source": [
    "plt.plot(noise_vars, overlaps, \"o\")\n",
    "plt.ylabel(\"overlap\")\n",
    "plt.xlabel(\"noise\")"
   ]
  },
  {
   "cell_type": "markdown",
   "metadata": {},
   "source": [
    "## Predicting the performance of AMP w/ state evolution"
   ]
  },
  {
   "cell_type": "code",
   "execution_count": 9,
   "metadata": {},
   "outputs": [],
   "source": [
    "from scipy.integrate import quad\n",
    "\n",
    "def iterate_se(var_noise, max_iter=250, tol=1e-11, verbose=1):\n",
    "    # Define function to be integrated at each step\n",
    "    f = lambda x: lambda z: np.exp(-.5 * z ** 2) / np.sqrt(2 * np.pi) * \\\n",
    "            np.tanh(np.sqrt(x) * z + x)\n",
    "    \n",
    "    m = 1e-3\n",
    "    for t in range(max_iter):\n",
    "        m_old = m\n",
    "        m = quad(f(m / var_noise), -10, 10)[0]\n",
    "        \n",
    "        diff = np.abs(m - m_old)\n",
    "        if verbose:\n",
    "            print(\"t = %d, diff = %g; m = %g\" % (t, diff, m))\n",
    "            \n",
    "        if(diff < tol):\n",
    "            break\n",
    "    \n",
    "    return m"
   ]
  },
  {
   "cell_type": "code",
   "execution_count": 10,
   "metadata": {},
   "outputs": [
    {
     "name": "stdout",
     "output_type": "stream",
     "text": [
      "t = 0, diff = 0.00890162; m = 0.00990162\n",
      "t = 1, diff = 0.0806142; m = 0.0905158\n",
      "t = 2, diff = 0.428603; m = 0.519118\n",
      "t = 3, diff = 0.446399; m = 0.965517\n",
      "t = 4, diff = 0.0315761; m = 0.997093\n",
      "t = 5, diff = 0.000457241; m = 0.99755\n",
      "t = 6, diff = 6.05676e-06; m = 0.997556\n",
      "t = 7, diff = 8.0128e-08; m = 0.997557\n",
      "t = 8, diff = 1.06004e-09; m = 0.997557\n",
      "t = 9, diff = 1.40234e-11; m = 0.997557\n",
      "t = 10, diff = 1.85518e-13; m = 0.997557\n"
     ]
    },
    {
     "data": {
      "text/plain": [
       "0.9975565759008704"
      ]
     },
     "execution_count": 10,
     "metadata": {},
     "output_type": "execute_result"
    }
   ],
   "source": [
    "iterate_se(0.1)"
   ]
  },
  {
   "cell_type": "code",
   "execution_count": 11,
   "metadata": {},
   "outputs": [],
   "source": [
    "pred_vars = np.linspace(0.01, 2, 100)\n",
    "pred_overlaps = [iterate_se(var, verbose=0) for var in pred_vars]"
   ]
  },
  {
   "cell_type": "code",
   "execution_count": 12,
   "metadata": {},
   "outputs": [
    {
     "data": {
      "text/plain": [
       "Text(0.5,0,'noise')"
      ]
     },
     "execution_count": 12,
     "metadata": {},
     "output_type": "execute_result"
    },
    {
     "data": {
      "image/png": "[encoded data removed]",
      "text/plain": [
       "<Figure size 432x288 with 1 Axes>"
      ]
     },
     "metadata": {},
     "output_type": "display_data"
    }
   ],
   "source": [
    "plt.plot(noise_vars, overlaps, \"o\")\n",
    "plt.plot(pred_vars, pred_overlaps, \"-\")\n",
    "plt.ylabel(\"overlap\")\n",
    "plt.xlabel(\"noise\")"
   ]
  },
  {
   "cell_type": "markdown",
   "metadata": {},
   "source": [
    "## From $xx^T$ to $XX^T$ and $UV^T$: clustering with GMMs"
   ]
  },
  {
   "cell_type": "code",
   "execution_count": null,
   "metadata": {},
   "outputs": [],
   "source": []
  }
 ],
 "metadata": {
  "kernelspec": {
   "display_name": "Python 3",
   "language": "python",
   "name": "python3"
  },
  "language_info": {
   "codemirror_mode": {
    "name": "ipython",
    "version": 3
   },
   "file_extension": ".py",
   "mimetype": "text/x-python",
   "name": "python",
   "nbconvert_exporter": "python",
   "pygments_lexer": "ipython3",
   "version": "3.6.4"
  }
 },
 "nbformat": 4,
 "nbformat_minor": 2
}
