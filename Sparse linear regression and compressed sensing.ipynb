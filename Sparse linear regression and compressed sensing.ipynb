{
 "cells": [
  {
   "cell_type": "code",
   "execution_count": 1,
   "metadata": {},
   "outputs": [],
   "source": [
    "%matplotlib inline\n",
    "import numpy as np\n",
    "import matplotlib.pyplot as plt\n",
    "plt.rcParams[\"figure.figsize\"] = (8, 8)\n",
    "plt.rcParams[\"font.size\"] = 14\n",
    "\n",
    "np.random.seed(42)"
   ]
  },
  {
   "cell_type": "markdown",
   "metadata": {},
   "source": [
    "# Sparse linear regression and compressed sensing"
   ]
  },
  {
   "cell_type": "markdown",
   "metadata": {},
   "source": [
    "$$\\left\\{\n",
    "\\begin{aligned}\n",
    "&x_i \\sim \\rho \\, \\mathcal{N} (x; 0, 1) + (1 - \\rho) \\, \\delta(x) \\\\\n",
    "&y_\\mu \\sim \\mathcal{N} \\big(y_\\mu; \\sum_i F_{\\mu i} x_i, \\sigma^2\\big)\n",
    "\\end{aligned}\n",
    "\\right.\n",
    "$$"
   ]
  },
  {
   "cell_type": "markdown",
   "metadata": {},
   "source": [
    "$$P({\\bf x} | {\\bf y}, F) \\propto \\prod_{\\mu} \\mathcal{N} \\big(y_\\mu; \\sum_i F_{\\mu i} x_i, \\sigma^2\\big) \\, \\prod_i P_0 (x_i)$$"
   ]
  },
  {
   "cell_type": "code",
   "execution_count": 2,
   "metadata": {},
   "outputs": [],
   "source": [
    "def sample_instance(size_x, frac_nonzeros, rows_to_columns, var_noise):\n",
    "    \"\"\"Samples F from P(F) and {x, y} from P(x, y | F)\"\"\"\n",
    "    \n",
    "    # Some pre-processing\n",
    "    size_nonzeros = int(np.ceil(frac_nonzeros * size_x))\n",
    "    size_y = int(np.ceil(rows_to_columns * size_x))\n",
    "    \n",
    "    # Sample x from P_0(x)\n",
    "    x0 = np.zeros(size_x)\n",
    "    nonzeros = np.random.choice(size_x, size_nonzeros, replace=False)\n",
    "    x0[nonzeros] = np.random.randn(size_nonzeros)\n",
    "    \n",
    "    # Generate F and y = Fx + noise\n",
    "    F = np.random.randn(size_y, size_x) / np.sqrt(size_x)\n",
    "    noise = np.sqrt(var_noise) * np.random.randn(size_y)\n",
    "    y = F.dot(x0) + noise\n",
    "\n",
    "    return x0, F, y"
   ]
  },
  {
   "cell_type": "code",
   "execution_count": 3,
   "metadata": {},
   "outputs": [
    {
     "data": {
      "text/plain": [
       "<StemContainer object of 3 artists>"
      ]
     },
     "execution_count": 3,
     "metadata": {},
     "output_type": "execute_result"
    },
    {
     "data": {
      "image/png": "[encoded data removed]",
      "text/plain": [
       "<Figure size 576x576 with 1 Axes>"
      ]
     },
     "metadata": {},
     "output_type": "display_data"
    }
   ],
   "source": [
    "x, F, y = sample_instance(2000, 0.2, 0.5, 1e-5)\n",
    "plt.stem(x)"
   ]
  },
  {
   "cell_type": "code",
   "execution_count": 4,
   "metadata": {},
   "outputs": [],
   "source": [
    "def iterate_amp(F, y, var_noise, frac_nonzeros,\n",
    "                x0=None, max_iter=100, tol=1e-7, verbose=1):\n",
    "    \"\"\"Iterates AMP to solve y = Fx, w/ x Bernoulli-Gaussian\"\"\"\n",
    "    \n",
    "    # Some pre-processing\n",
    "    size_y, size_x = F.shape\n",
    "    sqrF = F * F\n",
    "    \n",
    "    # Initialize variables\n",
    "    A = np.ones(size_x)\n",
    "    B = np.zeros(size_x)\n",
    "    a = np.zeros(size_x)\n",
    "    c = np.ones(size_x)\n",
    "    \n",
    "    a_old = np.zeros(size_x)\n",
    "    \n",
    "    v = np.ones(size_y)\n",
    "    w = np.copy(y)\n",
    "    \n",
    "    mses = np.zeros(max_iter)\n",
    "    for t in range(max_iter):\n",
    "        # Store old v and compute new v and w\n",
    "        v_old = np.copy(v)\n",
    "        v = sqrF.dot(c)\n",
    "        w = F.dot(a) - v * ((y - w) / (var_noise + v_old))\n",
    "        \n",
    "        # Iterate A and B\n",
    "        A = sqrF.T.dot(1 / (var_noise + v))\n",
    "        B = F.T.dot((y - w) / (var_noise + v)) + A * a\n",
    "        \n",
    "        # Store old mean and compute new mean/variance\n",
    "        a_old = np.copy(a)\n",
    "        a, c = prior(A, B, frac_nonzeros)\n",
    "        \n",
    "        # Compute metrics\n",
    "        diff = np.mean(np.abs(a - a_old))\n",
    "        mses[t] = np.mean((a - x0) ** 2) if x0 is not None else 0\n",
    "        \n",
    "        # Print iteration status on screen\n",
    "        if verbose:\n",
    "            print(\"t = %d, diff = %g; mse = %g\" % (t, diff, mses[t]))\n",
    "        \n",
    "        # Check for convergence\n",
    "        if diff < tol:\n",
    "            break\n",
    "            \n",
    "    return mses"
   ]
  },
  {
   "cell_type": "code",
   "execution_count": 5,
   "metadata": {},
   "outputs": [],
   "source": [
    "def prior(A, B, rho):\n",
    "    \"\"\"Compute f and f' for Bernoulli-Gaussian prior\"\"\"\n",
    "    \n",
    "    # let x = s * t, with s ~ Bernoulli(p) and t ~ N(0, 1); then m = E(t), v = Var(t), p = E(s)\n",
    "    m = B / (1 + A)\n",
    "    v = 1 / (1 + A)\n",
    "    p = rho / (rho + (1 - rho) * np.sqrt(1 + A) * np.exp(-.5 * m ** 2 / v))\n",
    "    \n",
    "    # compute E(s * t) and Var(s * t) from E(t), Var(t) and E(s)\n",
    "    a = p * m\n",
    "    c = p * v + p * (1 - p) * m ** 2\n",
    "    return a, c"
   ]
  },
  {
   "cell_type": "code",
   "execution_count": 6,
   "metadata": {},
   "outputs": [
    {
     "name": "stdout",
     "output_type": "stream",
     "text": [
      "t = 0, diff = 0.0398033; mse = 0.172325\n",
      "t = 1, diff = 0.144805; mse = 0.098441\n",
      "t = 2, diff = 0.141992; mse = 0.0639177\n",
      "t = 3, diff = 0.0991968; mse = 0.0407444\n",
      "t = 4, diff = 0.0669662; mse = 0.0268848\n",
      "t = 5, diff = 0.0454614; mse = 0.0178901\n",
      "t = 6, diff = 0.0372369; mse = 0.0121785\n",
      "t = 7, diff = 0.0278882; mse = 0.00876821\n",
      "t = 8, diff = 0.0228935; mse = 0.00580281\n",
      "t = 9, diff = 0.019284; mse = 0.00377963\n",
      "t = 10, diff = 0.0170755; mse = 0.0022014\n",
      "t = 11, diff = 0.0144038; mse = 0.00138264\n",
      "t = 12, diff = 0.0120123; mse = 0.000803358\n",
      "t = 13, diff = 0.00941466; mse = 0.000445088\n",
      "t = 14, diff = 0.00756945; mse = 0.000248029\n",
      "t = 15, diff = 0.0057566; mse = 0.000125473\n",
      "t = 16, diff = 0.00406548; mse = 6.29563e-05\n",
      "t = 17, diff = 0.0024762; mse = 3.46423e-05\n",
      "t = 18, diff = 0.00139796; mse = 1.89512e-05\n",
      "t = 19, diff = 0.000933051; mse = 1.18642e-05\n",
      "t = 20, diff = 0.000637904; mse = 9.84183e-06\n",
      "t = 21, diff = 0.000431823; mse = 8.83734e-06\n",
      "t = 22, diff = 0.00031091; mse = 8.44828e-06\n",
      "t = 23, diff = 0.000192938; mse = 8.30015e-06\n",
      "t = 24, diff = 0.000121815; mse = 8.28742e-06\n",
      "t = 25, diff = 7.76429e-05; mse = 8.33087e-06\n",
      "t = 26, diff = 5.14451e-05; mse = 8.39303e-06\n",
      "t = 27, diff = 3.33613e-05; mse = 8.41469e-06\n",
      "t = 28, diff = 2.05628e-05; mse = 8.41677e-06\n",
      "t = 29, diff = 1.29906e-05; mse = 8.42922e-06\n",
      "t = 30, diff = 8.21276e-06; mse = 8.42965e-06\n",
      "t = 31, diff = 5.62638e-06; mse = 8.43299e-06\n",
      "t = 32, diff = 3.62653e-06; mse = 8.4346e-06\n",
      "t = 33, diff = 2.50541e-06; mse = 8.43561e-06\n",
      "t = 34, diff = 1.64022e-06; mse = 8.43718e-06\n",
      "t = 35, diff = 1.03649e-06; mse = 8.43742e-06\n",
      "t = 36, diff = 6.74172e-07; mse = 8.43756e-06\n",
      "t = 37, diff = 4.27103e-07; mse = 8.43744e-06\n",
      "t = 38, diff = 2.83804e-07; mse = 8.43743e-06\n",
      "t = 39, diff = 1.89552e-07; mse = 8.43717e-06\n",
      "t = 40, diff = 1.25767e-07; mse = 8.437e-06\n",
      "t = 41, diff = 8.39132e-08; mse = 8.43692e-06\n"
     ]
    }
   ],
   "source": [
    "mses_amp = iterate_amp(F, y, var_noise=1e-5, frac_nonzeros=0.2, x0=x);"
   ]
  },
  {
   "cell_type": "markdown",
   "metadata": {},
   "source": [
    "## State evolution"
   ]
  },
  {
   "cell_type": "code",
   "execution_count": 7,
   "metadata": {},
   "outputs": [],
   "source": [
    "from scipy.integrate import quad\n",
    "\n",
    "def iterate_se(frac_nonzeros, rows_to_columns, var_noise, max_iter=100, tol=1e-7, verbose=1):\n",
    "    \"\"\"Iterates state evolution associated to AMP implementation above\"\"\"\n",
    "    \n",
    "    # Define function to be integrated at each step\n",
    "    f = lambda A: lambda z: np.exp(-z ** 2 / 2) / np.sqrt(2 * np.pi) * \\\n",
    "            ((1 - frac_nonzeros) * prior(A, np.sqrt(A) * z, frac_nonzeros)[1] + \\\n",
    "             frac_nonzeros * prior(A, np.sqrt(A * (1 + A)) * z, frac_nonzeros)[1])\n",
    "    \n",
    "    v = np.zeros(max_iter)\n",
    "    v[0] = frac_nonzeros\n",
    "    \n",
    "    for t in range(max_iter - 1):\n",
    "        A = rows_to_columns / (var_noise + v[t])\n",
    "        v[t + 1] = quad(f(A), -10, 10)[0]\n",
    "        \n",
    "        diff = np.abs(v[t + 1] - v[t])\n",
    "        if verbose:\n",
    "            print(\"t = %d, diff = %g; v = %g\" % (t, diff, v[t + 1]))\n",
    "            \n",
    "        if diff < tol:\n",
    "            break\n",
    "    \n",
    "    return v"
   ]
  },
  {
   "cell_type": "code",
   "execution_count": 8,
   "metadata": {},
   "outputs": [
    {
     "name": "stdout",
     "output_type": "stream",
     "text": [
      "t = 0, diff = 0.0942057; v = 0.105794\n",
      "t = 1, diff = 0.0377029; v = 0.0680914\n",
      "t = 2, diff = 0.0211465; v = 0.0469449\n",
      "t = 3, diff = 0.0137278; v = 0.0332171\n",
      "t = 4, diff = 0.0096076; v = 0.0236095\n",
      "t = 5, diff = 0.00698217; v = 0.0166274\n",
      "t = 6, diff = 0.00514239; v = 0.011485\n",
      "t = 7, diff = 0.00376954; v = 0.00771542\n",
      "t = 8, diff = 0.00271023; v = 0.00500519\n",
      "t = 9, diff = 0.00188795; v = 0.00311724\n",
      "t = 10, diff = 0.00126128; v = 0.00185596\n",
      "t = 11, diff = 0.000801748; v = 0.00105421\n",
      "t = 12, diff = 0.000482362; v = 0.00057185\n",
      "t = 13, diff = 0.000274055; v = 0.000297795\n",
      "t = 14, diff = 0.000147184; v = 0.000150611\n",
      "t = 15, diff = 7.50335e-05; v = 7.55775e-05\n",
      "t = 16, diff = 3.65645e-05; v = 3.90129e-05\n",
      "t = 17, diff = 1.71881e-05; v = 2.18248e-05\n",
      "t = 18, diff = 7.87279e-06; v = 1.3952e-05\n",
      "t = 19, diff = 3.5468e-06; v = 1.04052e-05\n",
      "t = 20, diff = 1.58304e-06; v = 8.82216e-06\n",
      "t = 21, diff = 7.03213e-07; v = 8.11895e-06\n",
      "t = 22, diff = 3.11674e-07; v = 7.80727e-06\n",
      "t = 23, diff = 1.37996e-07; v = 7.66928e-06\n",
      "t = 24, diff = 6.10701e-08; v = 7.60821e-06\n"
     ]
    }
   ],
   "source": [
    "mses_se = iterate_se(frac_nonzeros=0.2, rows_to_columns=0.5, var_noise=1e-5);"
   ]
  },
  {
   "cell_type": "code",
   "execution_count": 9,
   "metadata": {},
   "outputs": [
    {
     "data": {
      "text/plain": [
       "(0, 30)"
      ]
     },
     "execution_count": 9,
     "metadata": {},
     "output_type": "execute_result"
    },
    {
     "data": {
      "image/png": "[encoded data removed]",
      "text/plain": [
       "<Figure size 576x576 with 1 Axes>"
      ]
     },
     "metadata": {},
     "output_type": "display_data"
    }
   ],
   "source": [
    "# Compare MSE obtained in AMP and state evolution, *at each iteration*\n",
    "plt.plot(mses_amp, \"o\")\n",
    "plt.plot(mses_se, \"-\")\n",
    "plt.ylabel(\"MSE\")\n",
    "plt.xlabel(\"iteration\")\n",
    "plt.xlim([0, 30])"
   ]
  }
 ],
 "metadata": {
  "kernelspec": {
   "display_name": "Python 3",
   "language": "python",
   "name": "python3"
  },
  "language_info": {
   "codemirror_mode": {
    "name": "ipython",
    "version": 3
   },
   "file_extension": ".py",
   "mimetype": "text/x-python",
   "name": "python",
   "nbconvert_exporter": "python",
   "pygments_lexer": "ipython3",
   "version": "3.6.4"
  }
 },
 "nbformat": 4,
 "nbformat_minor": 2
}
